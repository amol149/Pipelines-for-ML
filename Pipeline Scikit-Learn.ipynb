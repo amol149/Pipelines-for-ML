{
 "cells": [
  {
   "cell_type": "markdown",
   "metadata": {},
   "source": [
    "## Creating Pipelines using Scikit-Learn(Machine Learning) "
   ]
  },
  {
   "cell_type": "code",
   "execution_count": null,
   "metadata": {},
   "outputs": [],
   "source": [
    "#### Load Packages\n",
    "from sklearn.datasets import load_iris\n",
    "import pandas as pd\n",
    "from sklearn.model_selection import train_test_split\n",
    "from sklearn.preprocessing import StandardScaler\n",
    "from sklearn.decomposition import PCA\n",
    "from sklearn.externals import joblib\n",
    "from sklearn.pipeline import Pipeline\n",
    "from sklearn.linear_model import LogisticRegression\n",
    "from sklearn.ensemble import RandomForestClassifier\n",
    "from sklearn.tree import DecisionTreeClassifier\n",
    "\n",
    "#Ignore warnings\n",
    "import warnings\n",
    "warnings.filterwarnings('ignore')"
   ]
  },
  {
   "cell_type": "code",
   "execution_count": 92,
   "metadata": {},
   "outputs": [],
   "source": [
    " #load Data\n",
    "iris  = load_iris()"
   ]
  },
  {
   "cell_type": "code",
   "execution_count": 93,
   "metadata": {},
   "outputs": [],
   "source": [
    "# print(dir(iris))\n",
    "# print(iris.data)\n",
    "# print(iris.feature_names)\n",
    "# print(iris.target)\n",
    "# print(iris.target_names)'''"
   ]
  },
  {
   "cell_type": "markdown",
   "metadata": {},
   "source": [
    "#### Converted into DataFrame"
   ]
  },
  {
   "cell_type": "code",
   "execution_count": 32,
   "metadata": {},
   "outputs": [],
   "source": [
    "## Create IRIS DataFrame\n",
    "df = pd.DataFrame(data=iris.data, \n",
    "                  columns=['sepal length (cm)', 'sepal width (cm)', 'petal length (cm)', 'petal width (cm)'])\n",
    "df['Type'] = iris.target"
   ]
  },
  {
   "cell_type": "code",
   "execution_count": 45,
   "metadata": {},
   "outputs": [],
   "source": [
    "#Split dataset into training and testing\n",
    "def split_data(x, y, test_size=0.30, random_state=0, **kwargs):\n",
    "    x_train, x_test, y_train, y_test = train_test_split(x, y, test_size=test_size, random_state=random_state, **kwargs)\n",
    "    return x_train, x_test, y_train, y_test"
   ]
  },
  {
   "cell_type": "code",
   "execution_count": 89,
   "metadata": {},
   "outputs": [
    {
     "name": "stdout",
     "output_type": "stream",
     "text": [
      "70.0\n",
      "30.0\n"
     ]
    }
   ],
   "source": [
    "x_train, x_test, y_train, y_test = split_data(iris.data, iris.target)\n",
    "print(len(x_train)/len(iris.data)*100)\n",
    "print(len(y_test)/len(iris.data)*100)"
   ]
  },
  {
   "cell_type": "markdown",
   "metadata": {},
   "source": [
    "### Pipline cretation \n",
    "##### 1 - Data Preprocessing using standred scalar\n",
    "##### 2 - Reduce Dimension using PCA(Principle Component Analysis)\n",
    "##### 3 - Apply classifier(LR, DT, RF)"
   ]
  },
  {
   "cell_type": "code",
   "execution_count": 75,
   "metadata": {},
   "outputs": [],
   "source": [
    "best_accuracy=0\n",
    "best_pipline=0\n",
    "best_classifier=\"\""
   ]
  },
  {
   "cell_type": "markdown",
   "metadata": {},
   "source": [
    "#### Pipeline for LR, DT, RF"
   ]
  },
  {
   "cell_type": "code",
   "execution_count": 76,
   "metadata": {},
   "outputs": [],
   "source": [
    "pipline_lr = Pipeline([('scalar1', StandardScaler()),\n",
    "                      ('pca1', PCA(n_components = 2)),\n",
    "                      ('lr_classifier', LogisticRegression(random_state=0))])"
   ]
  },
  {
   "cell_type": "code",
   "execution_count": 77,
   "metadata": {},
   "outputs": [],
   "source": [
    "pipline_dt = Pipeline([('scalar2', StandardScaler()),\n",
    "                      ('pca2', PCA(n_components=2)),\n",
    "                      ('dt_classifier', DecisionTreeClassifier())])"
   ]
  },
  {
   "cell_type": "code",
   "execution_count": 78,
   "metadata": {},
   "outputs": [],
   "source": [
    "pipline_rf = Pipeline([('scalar3', StandardScaler()),\n",
    "                      ('pca2', PCA(n_components=2)),\n",
    "                      ('rf_classifier', RandomForestClassifier())])"
   ]
  },
  {
   "cell_type": "code",
   "execution_count": 79,
   "metadata": {},
   "outputs": [],
   "source": [
    "piplines = [pipline_lr, pipline_dt, pipline_rf] #create list of pipelines"
   ]
  },
  {
   "cell_type": "code",
   "execution_count": 80,
   "metadata": {},
   "outputs": [],
   "source": [
    "pip_dict = {0: 'Logistic Regression', 1: 'Decision Tree', 2: 'Random Forest'} #create dictionary\n",
    "for pipe in piplines:\n",
    "    pipe.fit(x_train, y_train)"
   ]
  },
  {
   "cell_type": "markdown",
   "metadata": {},
   "source": [
    "#### Accuracy"
   ]
  },
  {
   "cell_type": "code",
   "execution_count": 90,
   "metadata": {},
   "outputs": [
    {
     "name": "stdout",
     "output_type": "stream",
     "text": [
      "Logistic Regression Test Accuracy : 0.8666666666666667\n",
      "Decision Tree Test Accuracy : 0.9111111111111111\n",
      "Random Forest Test Accuracy : 0.8888888888888888\n"
     ]
    }
   ],
   "source": [
    "# Print Test Accuracy\n",
    "for i, model in enumerate(piplines):\n",
    "    print(\"{} Test Accuracy : {}\".format(pip_dict[i], model.score(x_test, y_test)))"
   ]
  },
  {
   "cell_type": "code",
   "execution_count": 91,
   "metadata": {},
   "outputs": [
    {
     "name": "stdout",
     "output_type": "stream",
     "text": [
      "Best classifier is : Decision Tree\n"
     ]
    }
   ],
   "source": [
    "for i, model in enumerate(piplines):\n",
    "    if model.score(x_test, y_test) > best_accuracy:\n",
    "        best_accuracy=model.score(x_test, y_test)\n",
    "        best_pipline = model\n",
    "        best_classifier=i\n",
    "print(\"Best classifier is : {}\".format(pip_dict[best_classifier]))"
   ]
  },
  {
   "cell_type": "code",
   "execution_count": null,
   "metadata": {},
   "outputs": [],
   "source": [
    "################################ END ####################################"
   ]
  },
  {
   "cell_type": "code",
   "execution_count": null,
   "metadata": {},
   "outputs": [],
   "source": []
  }
 ],
 "metadata": {
  "kernelspec": {
   "display_name": "Python 3",
   "language": "python",
   "name": "python3"
  },
  "language_info": {
   "codemirror_mode": {
    "name": "ipython",
    "version": 3
   },
   "file_extension": ".py",
   "mimetype": "text/x-python",
   "name": "python",
   "nbconvert_exporter": "python",
   "pygments_lexer": "ipython3",
   "version": "3.6.8"
  }
 },
 "nbformat": 4,
 "nbformat_minor": 4
}
